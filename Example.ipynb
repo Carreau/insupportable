{
 "cells": [
  {
   "cell_type": "code",
   "execution_count": 1,
   "metadata": {
    "collapsed": false
   },
   "outputs": [],
   "source": [
    "import warnings; warnings.simplefilter('default')\n",
    "from insupportable import support"
   ]
  },
  {
   "cell_type": "code",
   "execution_count": 2,
   "metadata": {
    "collapsed": false
   },
   "outputs": [
    {
     "name": "stdout",
     "output_type": "stream",
     "text": [
      "sys.version_info(major=2, minor=7, micro=10, releaselevel='candidate', serial=0)\n"
     ]
    }
   ],
   "source": [
    "import sys\n",
    "print(sys.version_info)"
   ]
  },
  {
   "cell_type": "markdown",
   "metadata": {},
   "source": [
    "## Built-in quick support for Python 2 and 3"
   ]
  },
  {
   "cell_type": "markdown",
   "metadata": {},
   "source": [
    "As a developper enable warnings, (or use `python -Wd`)\n"
   ]
  },
  {
   "cell_type": "markdown",
   "metadata": {},
   "source": [
    "You support both Python 2 and Python 3 ? "
   ]
  },
  {
   "cell_type": "code",
   "execution_count": 3,
   "metadata": {
    "collapsed": false
   },
   "outputs": [
    {
     "name": "stdout",
     "output_type": "stream",
     "text": [
      "You are on python 2\n"
     ]
    }
   ],
   "source": [
    "if support('PY2'):\n",
    "    print(\"You are on python 2\")\n",
    "else:\n",
    "    print(\"You are on python 3\")"
   ]
  },
  {
   "cell_type": "markdown",
   "metadata": {},
   "source": [
    "## Drop Python 2 support:"
   ]
  },
  {
   "cell_type": "code",
   "execution_count": 4,
   "metadata": {
    "collapsed": true
   },
   "outputs": [],
   "source": [
    "from insupportable import S,PY2,PY3 # PY2, PY3, for convenience and avoid typos :-) "
   ]
  },
  {
   "cell_type": "code",
   "execution_count": 5,
   "metadata": {
    "collapsed": false
   },
   "outputs": [
    {
     "name": "stdout",
     "output_type": "stream",
     "text": [
      "You are on python 2\n"
     ]
    },
    {
     "name": "stderr",
     "output_type": "stream",
     "text": [
      "/Users/bussonniermatthias/dev/ipython_kernel/ipython_kernel/__main__.py:3: UserWarning: You are not supporting PY2 anymore \n",
      "  app.launch_new_instance()\n",
      "/Users/bussonniermatthias/dev/ipython_kernel/ipython_kernel/__main__.py:3: UserWarning: PY2 is the last supported feature of this group, you can simplifiy this logic. \n",
      "  app.launch_new_instance()\n"
     ]
    }
   ],
   "source": [
    "support = S(PY2=False).support\n",
    "\n",
    "if support(PY2):\n",
    "    print(\"You are on python 2\")\n",
    "else:\n",
    "    print(\"You are on python 3\")"
   ]
  },
  {
   "cell_type": "markdown",
   "metadata": {},
   "source": [
    "(I'm writing that in IPython, so stack is wrong here)"
   ]
  },
  {
   "cell_type": "markdown",
   "metadata": {},
   "source": [
    "works also if I test `if(PY3)` !"
   ]
  },
  {
   "cell_type": "code",
   "execution_count": 6,
   "metadata": {
    "collapsed": false
   },
   "outputs": [
    {
     "name": "stdout",
     "output_type": "stream",
     "text": [
      "You are on python 2\n"
     ]
    },
    {
     "name": "stderr",
     "output_type": "stream",
     "text": [
      "/Users/bussonniermatthias/dev/ipython_kernel/ipython_kernel/__main__.py:5: UserWarning: PY3 is the last supported feature of this group, you can simplifiy this logic. \n"
     ]
    }
   ],
   "source": [
    "config  = {'PY2':False, 'PY3':True} # this woudl be in config file\n",
    "\n",
    "support = S(**config).support\n",
    "\n",
    "if support(PY3):\n",
    "    print(\"You are on python 3\")\n",
    "else:\n",
    "    print(\"You are on python 2\")"
   ]
  },
  {
   "cell_type": "markdown",
   "metadata": {},
   "source": [
    "Say you use to support 3 platforms,"
   ]
  },
  {
   "cell_type": "code",
   "execution_count": 7,
   "metadata": {
    "collapsed": false
   },
   "outputs": [],
   "source": [
    "s = S(config=({'WindowsPhone':True,\n",
    "              'Android':True,\n",
    "              'iOs':False\n",
    "             },))\n",
    "support = s.support"
   ]
  },
  {
   "cell_type": "code",
   "execution_count": 8,
   "metadata": {
    "collapsed": false
   },
   "outputs": [
    {
     "name": "stdout",
     "output_type": "stream",
     "text": [
      "Click on start menu\n"
     ]
    }
   ],
   "source": [
    "if support('WindowsPhone'):\n",
    "    print('Click on start menu')\n",
    "else:\n",
    "    print('Probably Android')"
   ]
  },
  {
   "cell_type": "markdown",
   "metadata": {},
   "source": [
    "And actually you decide to drop android"
   ]
  },
  {
   "cell_type": "code",
   "execution_count": 9,
   "metadata": {
    "collapsed": true
   },
   "outputs": [],
   "source": [
    "s = S(config=({'WindowsPhone':True,\n",
    "              'Android':False,\n",
    "              'iOs':False\n",
    "             },))\n",
    "support = s.support"
   ]
  },
  {
   "cell_type": "code",
   "execution_count": 10,
   "metadata": {
    "collapsed": false
   },
   "outputs": [
    {
     "name": "stdout",
     "output_type": "stream",
     "text": [
      "Click on start menu\n"
     ]
    },
    {
     "name": "stderr",
     "output_type": "stream",
     "text": [
      "/Users/bussonniermatthias/dev/ipython_kernel/ipython_kernel/__main__.py:1: UserWarning: WindowsPhone is the last supported feature of this group, you can simplifiy this logic. \n",
      "  if __name__ == '__main__':\n"
     ]
    }
   ],
   "source": [
    "if support('WindowsPhone'):\n",
    "    print('Click on start menu')\n",
    "else:\n",
    "    print(\"Probably Android - but you don't support it anymore\")"
   ]
  },
  {
   "cell_type": "markdown",
   "metadata": {},
   "source": [
    "## Don't get in your way."
   ]
  },
  {
   "cell_type": "markdown",
   "metadata": {},
   "source": [
    "Nothing more anoying that having to write the configuration before actually having working code. `support` assume by default that you support the feature though it will warn that it does not know it. So you can just set up everything after. "
   ]
  },
  {
   "cell_type": "code",
   "execution_count": 11,
   "metadata": {
    "collapsed": false
   },
   "outputs": [
    {
     "name": "stdout",
     "output_type": "stream",
     "text": [
      "in python one you had to write to sys !"
     ]
    },
    {
     "name": "stderr",
     "output_type": "stream",
     "text": [
      "insupportable/insupportable.py:90: UserWarning: unknown feature: PY1\n",
      "  warn(\"unknown feature: %s\"%version)\n"
     ]
    }
   ],
   "source": [
    "from insupportable import support\n",
    "\n",
    "if support('PY1'):\n",
    "    # Well, we need some work around for old versions:'\n",
    "    import sys\n",
    "    sys.stdout.write('in python one you had to write to sys !')\n",
    "\n",
    " "
   ]
  },
  {
   "cell_type": "markdown",
   "metadata": {},
   "source": [
    "It gently warn you that maybe you should tell it wether or not you stil support PY1, which let you write code and decide wether ot not to support later. "
   ]
  },
  {
   "cell_type": "markdown",
   "metadata": {},
   "source": [
    "## Minor python versions"
   ]
  },
  {
   "cell_type": "code",
   "execution_count": 12,
   "metadata": {
    "collapsed": true
   },
   "outputs": [],
   "source": [
    "import insupportable"
   ]
  },
  {
   "cell_type": "code",
   "execution_count": 13,
   "metadata": {
    "collapsed": false
   },
   "outputs": [
    {
     "data": {
      "text/plain": [
       "{'PY2': True,\n",
       " 'PY3': False,\n",
       " 'PY30': False,\n",
       " 'PY30+': False,\n",
       " 'PY31': False,\n",
       " 'PY31+': False,\n",
       " 'PY32': False,\n",
       " 'PY32+': False,\n",
       " 'PY33': False,\n",
       " 'PY33+': False,\n",
       " 'PY34': False,\n",
       " 'PY34+': False,\n",
       " 'PY35': False,\n",
       " 'PY35+': False,\n",
       " 'PY36': False,\n",
       " 'PY36+': False}"
      ]
     },
     "execution_count": 13,
     "metadata": {},
     "output_type": "execute_result"
    }
   ],
   "source": [
    "insupportable.predicates"
   ]
  },
  {
   "cell_type": "code",
   "execution_count": 15,
   "metadata": {
    "collapsed": false
   },
   "outputs": [
    {
     "name": "stderr",
     "output_type": "stream",
     "text": [
      "/Users/bussonniermatthias/dev/ipython_kernel/ipython_kernel/__main__.py:2: UserWarning: You are not supporting PY35+ anymore \n",
      "  from ipython_kernel import kernelapp as app\n"
     ]
    },
    {
     "data": {
      "text/plain": [
       "False"
      ]
     },
     "execution_count": 15,
     "metadata": {},
     "output_type": "execute_result"
    }
   ],
   "source": [
    "s = S()\n",
    "support('PY35+')"
   ]
  },
  {
   "cell_type": "code",
   "execution_count": null,
   "metadata": {
    "collapsed": true
   },
   "outputs": [],
   "source": []
  }
 ],
 "metadata": {
  "kernelspec": {
   "display_name": "Python 2",
   "language": "python",
   "name": "python2"
  },
  "language_info": {
   "codemirror_mode": {
    "name": "ipython",
    "version": 2
   },
   "file_extension": ".py",
   "mimetype": "text/x-python",
   "name": "python",
   "nbconvert_exporter": "python",
   "pygments_lexer": "ipython2",
   "version": "2.7.10rc0"
  }
 },
 "nbformat": 4,
 "nbformat_minor": 0
}
