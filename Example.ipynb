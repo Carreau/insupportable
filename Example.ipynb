{
 "cells": [
  {
   "cell_type": "code",
   "execution_count": 1,
   "metadata": {
    "collapsed": false
   },
   "outputs": [],
   "source": [
    "import warnings; warnings.simplefilter('default')\n",
    "from insupportable import support"
   ]
  },
  {
   "cell_type": "code",
   "execution_count": 2,
   "metadata": {
    "collapsed": false
   },
   "outputs": [
    {
     "name": "stdout",
     "output_type": "stream",
     "text": [
      "sys.version_info(major=3, minor=5, micro=0, releaselevel='alpha', serial=4)\n"
     ]
    }
   ],
   "source": [
    "import sys\n",
    "print(sys.version_info)"
   ]
  },
  {
   "cell_type": "markdown",
   "metadata": {},
   "source": [
    "## Built-in quick support for Python 2 and 3"
   ]
  },
  {
   "cell_type": "markdown",
   "metadata": {},
   "source": [
    "As a developper enable warnings, (or use `python -Wd`)\n"
   ]
  },
  {
   "cell_type": "markdown",
   "metadata": {},
   "source": [
    "You support both Python 2 and Python 3 ? "
   ]
  },
  {
   "cell_type": "code",
   "execution_count": 3,
   "metadata": {
    "collapsed": false
   },
   "outputs": [
    {
     "name": "stdout",
     "output_type": "stream",
     "text": [
      "You are on python 3\n"
     ]
    }
   ],
   "source": [
    "from insupportable import support\n",
    "if support('PY2'):\n",
    "    print(\"You are on python 2\")\n",
    "else:\n",
    "    print(\"You are on python 3\")"
   ]
  },
  {
   "cell_type": "markdown",
   "metadata": {},
   "source": [
    "## Drop Python 2 support:"
   ]
  },
  {
   "cell_type": "code",
   "execution_count": 4,
   "metadata": {
    "collapsed": true
   },
   "outputs": [],
   "source": [
    "from insupportable import PY2,PY3 # PY2, PY3, for convenience and avoid typos :-) "
   ]
  },
  {
   "cell_type": "code",
   "execution_count": 5,
   "metadata": {
    "collapsed": false
   },
   "outputs": [
    {
     "name": "stdout",
     "output_type": "stream",
     "text": [
      "You are on python 2\n"
     ]
    },
    {
     "name": "stderr",
     "output_type": "stream",
     "text": [
      "/Users/bussonniermatthias/dev/ipykernel/ipykernel/__main__.py:3: UserWarning: PY3 is the last supported feature of this group, you can simplifiy this logic. \n",
      "  app.launch_new_instance()\n"
     ]
    }
   ],
   "source": [
    "support.config(PY2=False)\n",
    "\n",
    "if support(PY3):\n",
    "    print(\"You are on python 2\")\n",
    "else:\n",
    "    print(\"You are on python 3\")"
   ]
  },
  {
   "cell_type": "markdown",
   "metadata": {},
   "source": [
    "(I'm writing that in IPython, so stack is wrong here)"
   ]
  },
  {
   "cell_type": "markdown",
   "metadata": {},
   "source": [
    "works also if I test `if(PY3)` !"
   ]
  },
  {
   "cell_type": "code",
   "execution_count": 6,
   "metadata": {
    "collapsed": false
   },
   "outputs": [
    {
     "name": "stdout",
     "output_type": "stream",
     "text": [
      "You are on python 3\n"
     ]
    },
    {
     "name": "stderr",
     "output_type": "stream",
     "text": [
      "/Users/bussonniermatthias/dev/ipykernel/ipykernel/__main__.py:3: UserWarning: PY3 is the last supported feature of this group, you can simplifiy this logic. \n",
      "  app.launch_new_instance()\n"
     ]
    }
   ],
   "source": [
    "support.config(PY2=False, PY3=True) # this woudl be in config file\n",
    "\n",
    "if support(PY3):\n",
    "    print(\"You are on python 3\")\n",
    "else:\n",
    "    print(\"You are on python 2\")"
   ]
  },
  {
   "cell_type": "markdown",
   "metadata": {},
   "source": [
    "Say you use to support 3 platforms,"
   ]
  },
  {
   "cell_type": "code",
   "execution_count": 7,
   "metadata": {
    "collapsed": false
   },
   "outputs": [],
   "source": [
    "support.config(({'WindowsPhone':True,\n",
    "              'Android':True,\n",
    "              'iOs':False\n",
    "             },))"
   ]
  },
  {
   "cell_type": "code",
   "execution_count": 8,
   "metadata": {
    "collapsed": false
   },
   "outputs": [
    {
     "name": "stdout",
     "output_type": "stream",
     "text": [
      "Click on start menu\n"
     ]
    },
    {
     "name": "stderr",
     "output_type": "stream",
     "text": [
      "/Users/bussonniermatthias/dev/insupportable/insupportable/insupportable.py:103: UserWarning: unknown feature: WindowsPhone\n",
      "  warn(\"unknown feature: %s\"%version)\n"
     ]
    }
   ],
   "source": [
    "if support('WindowsPhone'):\n",
    "    print('Click on start menu')\n",
    "else:\n",
    "    print('Probably Android')"
   ]
  },
  {
   "cell_type": "markdown",
   "metadata": {},
   "source": [
    "And actually you decide to drop android"
   ]
  },
  {
   "cell_type": "code",
   "execution_count": 9,
   "metadata": {
    "collapsed": false
   },
   "outputs": [],
   "source": [
    "support.config(config=({'WindowsPhone':True,\n",
    "              'Android':False,\n",
    "              'iOs':False\n",
    "             },))"
   ]
  },
  {
   "cell_type": "code",
   "execution_count": 10,
   "metadata": {
    "collapsed": false
   },
   "outputs": [
    {
     "name": "stdout",
     "output_type": "stream",
     "text": [
      "Click on start menu\n"
     ]
    },
    {
     "name": "stderr",
     "output_type": "stream",
     "text": [
      "/Users/bussonniermatthias/dev/ipykernel/ipykernel/__main__.py:5: UserWarning: WindowsPhone is the last supported feature of this group, you can simplifiy this logic. \n"
     ]
    }
   ],
   "source": [
    "support.config(config=({'WindowsPhone':True,\n",
    "              'Android':False,\n",
    "              'iOs':False\n",
    "             },))\n",
    "if support('WindowsPhone'):\n",
    "    print('Click on start menu')\n",
    "else:\n",
    "    print(\"Probably Android - but you don't support it anymore\")\n"
   ]
  },
  {
   "cell_type": "code",
   "execution_count": 11,
   "metadata": {
    "collapsed": false
   },
   "outputs": [
    {
     "name": "stdout",
     "output_type": "stream",
     "text": [
      "Click on start menu\n"
     ]
    },
    {
     "name": "stderr",
     "output_type": "stream",
     "text": [
      "/Users/bussonniermatthias/dev/ipykernel/ipykernel/__main__.py:1: UserWarning: WindowsPhone is the last supported feature of this group, you can simplifiy this logic. \n",
      "  if __name__ == '__main__':\n"
     ]
    }
   ],
   "source": [
    "if support('WindowsPhone'):\n",
    "    print('Click on start menu')\n",
    "else:\n",
    "    print(\"Probably Android - but you don't support it anymore\")"
   ]
  },
  {
   "cell_type": "markdown",
   "metadata": {},
   "source": [
    "## Don't get in your way."
   ]
  },
  {
   "cell_type": "markdown",
   "metadata": {},
   "source": [
    "Nothing more anoying that having to write the configuration before actually having working code. `support` assume by default that you support the feature though it will warn that it does not know it. So you can just set up everything after. "
   ]
  },
  {
   "cell_type": "code",
   "execution_count": 12,
   "metadata": {
    "collapsed": false
   },
   "outputs": [
    {
     "name": "stdout",
     "output_type": "stream",
     "text": [
      "in python one you had to write to sys !"
     ]
    },
    {
     "name": "stderr",
     "output_type": "stream",
     "text": [
      "/Users/bussonniermatthias/dev/insupportable/insupportable/insupportable.py:103: UserWarning: unknown feature: PY1\n",
      "  warn(\"unknown feature: %s\"%version)\n"
     ]
    }
   ],
   "source": [
    "from insupportable import support\n",
    "\n",
    "if support('PY1'):\n",
    "    # Well, we need some work around for old versions:'\n",
    "    import sys\n",
    "    sys.stdout.write('in python one you had to write to sys !')\n",
    "\n",
    " "
   ]
  },
  {
   "cell_type": "markdown",
   "metadata": {},
   "source": [
    "It gently warn you that maybe you should tell it wether or not you stil support PY1, which let you write code and decide wether ot not to support later. "
   ]
  },
  {
   "cell_type": "markdown",
   "metadata": {},
   "source": [
    "## Minor python versions"
   ]
  },
  {
   "cell_type": "code",
   "execution_count": 13,
   "metadata": {
    "collapsed": true
   },
   "outputs": [],
   "source": [
    "import insupportable"
   ]
  },
  {
   "cell_type": "code",
   "execution_count": 14,
   "metadata": {
    "collapsed": false
   },
   "outputs": [
    {
     "data": {
      "text/plain": [
       "{'PY2': False,\n",
       " 'PY3': True,\n",
       " 'PY30': False,\n",
       " 'PY30+': True,\n",
       " 'PY31': False,\n",
       " 'PY31+': True,\n",
       " 'PY32': False,\n",
       " 'PY32+': True,\n",
       " 'PY33': False,\n",
       " 'PY33+': True,\n",
       " 'PY34': False,\n",
       " 'PY34+': True,\n",
       " 'PY35': False,\n",
       " 'PY35+': True,\n",
       " 'PY36': False,\n",
       " 'PY36+': False}"
      ]
     },
     "execution_count": 14,
     "metadata": {},
     "output_type": "execute_result"
    }
   ],
   "source": [
    "insupportable.predicates"
   ]
  },
  {
   "cell_type": "code",
   "execution_count": 15,
   "metadata": {
    "collapsed": false
   },
   "outputs": [
    {
     "name": "stderr",
     "output_type": "stream",
     "text": [
      "/Users/bussonniermatthias/dev/ipykernel/ipykernel/__main__.py:1: UserWarning: You are not supporting PY35+ anymore \n",
      "  if __name__ == '__main__':\n"
     ]
    },
    {
     "data": {
      "text/plain": [
       "True"
      ]
     },
     "execution_count": 15,
     "metadata": {},
     "output_type": "execute_result"
    }
   ],
   "source": [
    "support('PY35+')"
   ]
  },
  {
   "cell_type": "code",
   "execution_count": 16,
   "metadata": {
    "collapsed": false
   },
   "outputs": [],
   "source": [
    "import insupportable\n",
    "from insupportable import support"
   ]
  },
  {
   "cell_type": "code",
   "execution_count": 17,
   "metadata": {
    "collapsed": false
   },
   "outputs": [],
   "source": [
    "def jp():\n",
    "    import sys\n",
    "    return ('jupyter_notebook' in sys.modules)\n",
    "\n",
    "support.s.add_feature('JUPYTER', jp, supported=True)"
   ]
  },
  {
   "cell_type": "code",
   "execution_count": 18,
   "metadata": {
    "collapsed": false
   },
   "outputs": [
    {
     "name": "stderr",
     "output_type": "stream",
     "text": [
      "/Users/bussonniermatthias/dev/ipykernel/ipykernel/__main__.py:2: UserWarning: JUPYTER is the last supported feature of this group, you can simplifiy this logic. \n",
      "  from ipykernel import kernelapp as app\n"
     ]
    },
    {
     "data": {
      "text/plain": [
       "True"
      ]
     },
     "execution_count": 18,
     "metadata": {},
     "output_type": "execute_result"
    }
   ],
   "source": [
    "\n",
    "support('JUPYTER')"
   ]
  },
  {
   "cell_type": "code",
   "execution_count": 19,
   "metadata": {
    "collapsed": true
   },
   "outputs": [],
   "source": [
    "class Item(object):\n",
    "    \n",
    "    def __init__(self, name, predicate=True, support=True):\n",
    "        \"\"\"An item in a discret support set.\n",
    "        \n",
    "        An item is consituted of \n",
    "        - a name (string)\n",
    "        - a predicate (`Bool | funtion:()->Bool`) to determine if we are typically in this case.\n",
    "        \n",
    "        - the support status (bool)\n",
    "        \n",
    "        \"\"\"\n",
    "        self.name = name\n",
    "        if callabale(predicate):\n",
    "            predicate = predicate()\n",
    "        self.predicate = predicate\n",
    "        self.support = support\n",
    "        \n",
    "    \n",
    "        \n"
   ]
  },
  {
   "cell_type": "code",
   "execution_count": 20,
   "metadata": {
    "collapsed": false
   },
   "outputs": [
    {
     "data": {
      "text/plain": [
       "{'PY2': False,\n",
       " 'PY3': True,\n",
       " 'PY30': False,\n",
       " 'PY30+': True,\n",
       " 'PY31': False,\n",
       " 'PY31+': True,\n",
       " 'PY32': False,\n",
       " 'PY32+': True,\n",
       " 'PY33': False,\n",
       " 'PY33+': True,\n",
       " 'PY34': False,\n",
       " 'PY34+': True,\n",
       " 'PY35': False,\n",
       " 'PY35+': True,\n",
       " 'PY36': False,\n",
       " 'PY36+': False,\n",
       " 'name': False}"
      ]
     },
     "execution_count": 20,
     "metadata": {},
     "output_type": "execute_result"
    }
   ],
   "source": [
    "support.s.predicates"
   ]
  },
  {
   "cell_type": "markdown",
   "metadata": {},
   "source": [
    "#  technical"
   ]
  },
  {
   "cell_type": "code",
   "execution_count": 2,
   "metadata": {
    "collapsed": false
   },
   "outputs": [],
   "source": [
    "import insupportable"
   ]
  },
  {
   "cell_type": "code",
   "execution_count": 5,
   "metadata": {
    "collapsed": true
   },
   "outputs": [],
   "source": [
    "def fun(a, *args):\n",
    "    print(args)\n"
   ]
  },
  {
   "cell_type": "code",
   "execution_count": 7,
   "metadata": {
    "collapsed": false
   },
   "outputs": [
    {
     "name": "stdout",
     "output_type": "stream",
     "text": [
      "(2, 3)\n"
     ]
    }
   ],
   "source": [
    "fun(1,2,3)"
   ]
  },
  {
   "cell_type": "code",
   "execution_count": 5,
   "metadata": {
    "collapsed": false
   },
   "outputs": [
    {
     "data": {
      "text/plain": [
       "<function insupportable.insupportable.DiscreatFeature>"
      ]
     },
     "execution_count": 5,
     "metadata": {},
     "output_type": "execute_result"
    }
   ],
   "source": [
    "DF"
   ]
  },
  {
   "cell_type": "code",
   "execution_count": null,
   "metadata": {
    "collapsed": true
   },
   "outputs": [],
   "source": []
  },
  {
   "cell_type": "code",
   "execution_count": 1,
   "metadata": {
    "collapsed": false
   },
   "outputs": [],
   "source": [
    "from insupportable import DiscreatFeature as DF, FeatureGroup#, FeatureTracker\n",
    "\n",
    "PY2 = DF('PY2', lambda x: sys.version_info.major == 2)\n",
    "PY3 = DF('PY3', lambda x: sys.version_info.major == 3)\n",
    "JPY = DF('JUPYTER', lambda x: True)\n",
    "IPY = DF('IPYTHON', lambda x: False)\n",
    "\n",
    "\n",
    "group_py = FeatureGroup(PY2,PY3)\n",
    "group_jpy = FeatureGroup(JPY,IPY)"
   ]
  },
  {
   "cell_type": "code",
   "execution_count": 116,
   "metadata": {
    "collapsed": false
   },
   "outputs": [],
   "source": [
    "vx = lambda: re.compile('^(\\S+) ?(\\d+)\\.(\\d+)(\\+|-)?$')\n",
    "\n",
    "class NumeralFeature(object):\n",
    "    \n",
    "    def __init__(self ,name, predicate):\n",
    "        self.name = name\n",
    "        self.features = []\n",
    "        if callable(predicate):\n",
    "            self.current_version = predicate()\n",
    "        else : \n",
    "            self.current_version = predicate"
   ]
  },
  {
   "cell_type": "code",
   "execution_count": 117,
   "metadata": {
    "collapsed": true
   },
   "outputs": [],
   "source": [
    "import re"
   ]
  },
  {
   "cell_type": "code",
   "execution_count": 118,
   "metadata": {
    "collapsed": false
   },
   "outputs": [],
   "source": [
    "import sys\n",
    "pyv = NumeralFeature('python', lambda :sys.version_info)"
   ]
  },
  {
   "cell_type": "code",
   "execution_count": 119,
   "metadata": {
    "collapsed": false
   },
   "outputs": [
    {
     "name": "stdout",
     "output_type": "stream",
     "text": [
      "('foo', '2', '3', None)\n",
      "('foo', '2', '3', '+')\n",
      "('tornado', '2', '3', '-')\n",
      "('python', '2', '7', '+')\n"
     ]
    }
   ],
   "source": [
    "print(vx().search('foo2.3').groups())\n",
    "print(vx().search('foo2.3+').groups())\n",
    "print(vx().search('tornado 2.3-').groups())\n",
    "print(vx().search('python 2.7+').groups())\n"
   ]
  },
  {
   "cell_type": "code",
   "execution_count": 153,
   "metadata": {
    "collapsed": false
   },
   "outputs": [],
   "source": [
    "class FeatureTracker(object):\n",
    "\n",
    "    def __init__(self, *args):\n",
    "        self.args = args\n",
    "\n",
    "        self._known_versions = [f.name for g in args for f in g.features if type(f) == DF]\n",
    "        self._known_numerals = [g.name for g in args if type(g) == NumeralFeature]\n",
    "        self._numeral_map = {}\n",
    "        for g in args:\n",
    "            if type(g) == NumeralFeature:\n",
    "                self._numeral_map[g.name] = g.current_version\n",
    "            else:\n",
    "                continue\n",
    "\n",
    "\n",
    "\n",
    "\n",
    "    def support(self, indetifier):\n",
    "        pass\n",
    "    \n",
    "    def know(self, identifier):\n",
    "        if identifier in self._known_versions:\n",
    "            return True\n",
    "        elif vx().match(identifier):\n",
    "            feat = vx().search(identifier).groups()\n",
    "            print(tuple(map(int, feat[1:3])) >= self._numeral_map[feat[0]][:2])\n",
    "            return feat[0] in self._known_numerals\n",
    "        \n",
    "    \n",
    "        \n",
    "        \n",
    "ft = FeatureTracker(group_jpy, group_py, pyv)"
   ]
  },
  {
   "cell_type": "code",
   "execution_count": 154,
   "metadata": {
    "collapsed": false
   },
   "outputs": [
    {
     "data": {
      "text/plain": [
       "{'python': sys.version_info(major=3, minor=5, micro=0, releaselevel='alpha', serial=4)}"
      ]
     },
     "execution_count": 154,
     "metadata": {},
     "output_type": "execute_result"
    }
   ],
   "source": [
    "ft._numeral_map"
   ]
  },
  {
   "cell_type": "code",
   "execution_count": 156,
   "metadata": {
    "collapsed": false
   },
   "outputs": [
    {
     "name": "stdout",
     "output_type": "stream",
     "text": [
      "True\n"
     ]
    },
    {
     "data": {
      "text/plain": [
       "True"
      ]
     },
     "execution_count": 156,
     "metadata": {},
     "output_type": "execute_result"
    }
   ],
   "source": [
    "ft.know('python 3.5+')"
   ]
  },
  {
   "cell_type": "code",
   "execution_count": 102,
   "metadata": {
    "collapsed": false
   },
   "outputs": [
    {
     "data": {
      "text/plain": [
       "__main__.FeatureTracker"
      ]
     },
     "execution_count": 102,
     "metadata": {},
     "output_type": "execute_result"
    }
   ],
   "source": [
    "FeatureTracker"
   ]
  },
  {
   "cell_type": "markdown",
   "metadata": {},
   "source": [
    "So, we have a bunch of feature-sets with predicate and support:\n",
    "\n",
    "like:\n",
    "\n",
    "Python\n",
    "    - PY2   – sys.version_info.major == 2 – True\n",
    "    - PY3   – sys.version_info.major == 3 – True\n",
    "\n",
    "Python3.x\n",
    "    - PY33 - sys.version_info.minor >=3 - True\n",
    "    - PY34 - sys.version_info.minor >=4 - True\n",
    "    - PY35 - sys.version_info.minor >=5 - True\n",
    "    - PY36 - sys.version_info.minor >=6 - True\n",
    "    \n",
    "PyQtGui\n",
    "    - PyQt   - ? - True\n",
    "    - PySide - ? - False\n",
    "    \n",
    "    \n",
    "Features:\n",
    "\n",
    "\n",
    "    - if name not in set: warn unknown feature. \n",
    "    - if last of group: warn last availlable.\n",
    "\n"
   ]
  }
 ],
 "metadata": {
  "kernelspec": {
   "display_name": "Python 3",
   "language": "python",
   "name": "python3"
  },
  "language_info": {
   "codemirror_mode": {
    "name": "ipython",
    "version": 3
   },
   "file_extension": ".py",
   "mimetype": "text/x-python",
   "name": "python",
   "nbconvert_exporter": "python",
   "pygments_lexer": "ipython3",
   "version": "3.5.0a4+"
  }
 },
 "nbformat": 4,
 "nbformat_minor": 0
}
